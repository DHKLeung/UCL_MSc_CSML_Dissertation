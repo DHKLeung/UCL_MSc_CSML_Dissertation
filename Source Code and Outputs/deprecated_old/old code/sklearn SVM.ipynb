{
 "cells": [
  {
   "cell_type": "code",
   "execution_count": 1,
   "id": "infinite-strain",
   "metadata": {},
   "outputs": [],
   "source": [
    "import numpy as np\n",
    "from numpy.matlib import repmat\n",
    "import matplotlib.pyplot as plt\n",
    "from load_data import load_skl_data, load_circular_data, load_two_spirals, load_random_classification_dataset\n",
    "\n",
    "def visclassifier(fun, xTr, yTr, title, w=[], b=0, is_block=False):\n",
    "    yTr = np.array(yTr).flatten()\n",
    "    w = np.array(w).flatten()\n",
    "    marker_symbols = ['o', 'x']\n",
    "    mycolors = [[0.5, 0.5, 1], [1, 0.5, 0.5]]\n",
    "    classvals = np.unique(yTr)\n",
    "    plt.figure()\n",
    "    res = 300\n",
    "    xrange = np.linspace(min(xTr[:, 0]), max(xTr[:, 0]), res)\n",
    "    yrange = np.linspace(min(xTr[:, 1]), max(xTr[:, 1]), res)\n",
    "    pixelX = repmat(xrange, res, 1)\n",
    "    pixelY = repmat(yrange, res, 1).T\n",
    "    xTe = np.array([pixelX.flatten(), pixelY.flatten()]).T\n",
    "    testpreds = fun(xTe)\n",
    "    Z = testpreds.reshape(res, res)\n",
    "    plt.contourf(pixelX, pixelY, np.sign(Z), colors=mycolors)\n",
    "    for idx, c in enumerate(classvals):\n",
    "        plt.scatter(xTr[yTr == c, 0], xTr[yTr == c, 1], marker=marker_symbols[idx], color='k')\n",
    "    if w != []:\n",
    "        alpha = -1 * b / (w ** 2).sum()\n",
    "        plt.quiver(w[0] * alpha, w[1] * alpha, w[0], w[1], linewidth=2, color=[0, 1, 0])\n",
    "    plt.axis('tight')\n",
    "    plt.title(title)\n",
    "    plt.show(block=is_block)"
   ]
  },
  {
   "cell_type": "code",
   "execution_count": 2,
   "id": "selected-covering",
   "metadata": {},
   "outputs": [],
   "source": [
    "train_data, train_labels, val_data, val_labels, test_data, test_labels = load_two_spirals(120)"
   ]
  },
  {
   "cell_type": "code",
   "execution_count": 3,
   "id": "specialized-stuff",
   "metadata": {},
   "outputs": [],
   "source": [
    "from sklearn.svm import SVC"
   ]
  },
  {
   "cell_type": "code",
   "execution_count": 4,
   "id": "thirty-nomination",
   "metadata": {},
   "outputs": [
    {
     "name": "stdout",
     "output_type": "stream",
     "text": [
      "1.0 0.9166666666666666 0.9583333333333334\n"
     ]
    }
   ],
   "source": [
    "svc = SVC(C=1.0, kernel='rbf', gamma='auto')\n",
    "svc.fit(train_data, train_labels)\n",
    "print(np.mean(svc.predict(train_data) == train_labels), np.mean(svc.predict(val_data) == val_labels), np.mean(svc.predict(test_data) == test_labels))"
   ]
  },
  {
   "cell_type": "code",
   "execution_count": 5,
   "id": "structural-journal",
   "metadata": {},
   "outputs": [
    {
     "name": "stderr",
     "output_type": "stream",
     "text": [
      "<ipython-input-1-791ad0c052f1>:24: DeprecationWarning: The truth value of an empty array is ambiguous. Returning False, but in future this will result in an error. Use `array.size > 0` to check that an array is not empty.\n",
      "  if w != []:\n"
     ]
    },
    {
     "data": {
      "image/png": "[encoded data removed]",
      "text/plain": [
       "<Figure size 432x288 with 1 Axes>"
      ]
     },
     "metadata": {
      "needs_background": "light"
     },
     "output_type": "display_data"
    }
   ],
   "source": [
    "visclassifier(svc.predict, train_data, train_labels, 'decision boundary')"
   ]
  },
  {
   "cell_type": "code",
   "execution_count": null,
   "id": "valid-dressing",
   "metadata": {},
   "outputs": [],
   "source": []
  }
 ],
 "metadata": {
  "kernelspec": {
   "display_name": "Python 3",
   "language": "python",
   "name": "python3"
  },
  "language_info": {
   "codemirror_mode": {
    "name": "ipython",
    "version": 3
   },
   "file_extension": ".py",
   "mimetype": "text/x-python",
   "name": "python",
   "nbconvert_exporter": "python",
   "pygments_lexer": "ipython3",
   "version": "3.8.5"
  }
 },
 "nbformat": 4,
 "nbformat_minor": 5
}
