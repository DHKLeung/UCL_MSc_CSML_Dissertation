{
 "cells": [
  {
   "cell_type": "code",
   "execution_count": 1,
   "id": "continental-platform",
   "metadata": {},
   "outputs": [],
   "source": [
    "import numpy as np\n",
    "from sklearn.svm import SVC\n",
    "from load_data import load_skl_data\n",
    "from vicinal_classification import single_point_vicinal"
   ]
  },
  {
   "cell_type": "code",
   "execution_count": 13,
   "id": "cultural-recorder",
   "metadata": {},
   "outputs": [],
   "source": [
    "\"\"\"\n",
    "Configuration and Hyperparameters\n",
    "\"\"\"\n",
    "gauss_vicinal_std = 0.25"
   ]
  },
  {
   "cell_type": "code",
   "execution_count": 14,
   "id": "eight-ethics",
   "metadata": {},
   "outputs": [
    {
     "name": "stdout",
     "output_type": "stream",
     "text": [
      "0.9736070381231672 0.9451754385964912\n",
      "0.9736070381231672 0.9364035087719298\n"
     ]
    }
   ],
   "source": [
    "cv = 2\n",
    "train_acc_gauss = 0.\n",
    "test_acc_gauss = 0.\n",
    "train_acc = 0.\n",
    "test_acc = 0.\n",
    "for i in range(cv):\n",
    "    train_data, train_labels, val_data, val_labels, test_data, test_labels = load_skl_data('breast_cancer')\n",
    "    test_data = np.vstack((val_data, test_data))\n",
    "    test_labels = np.hstack((val_labels, test_labels))\n",
    "    \n",
    "    train_data_gauss, train_labels_gauss = single_point_vicinal(train_data, train_labels, gauss_vicinal_std, 1, 'gaussian', augment=True)\n",
    "    \n",
    "    svc = SVC(C=1.0, kernel='linear', gamma='auto')\n",
    "    svc.fit(train_data_gauss, train_labels_gauss)\n",
    "    train_acc_gauss += np.mean(svc.predict(train_data) == train_labels)\n",
    "    test_acc_gauss += np.mean(svc.predict(test_data) == test_labels)\n",
    "    \n",
    "    svc = SVC(C=1.0, kernel='linear', gamma='auto')\n",
    "    svc.fit(train_data, train_labels)\n",
    "    train_acc += np.mean(svc.predict(train_data) == train_labels)\n",
    "    test_acc += np.mean(svc.predict(test_data) == test_labels)\n",
    "print(train_acc_gauss / cv, test_acc_gauss / cv)\n",
    "print(train_acc / cv, test_acc / cv)"
   ]
  },
  {
   "cell_type": "code",
   "execution_count": null,
   "id": "european-welsh",
   "metadata": {},
   "outputs": [],
   "source": []
  }
 ],
 "metadata": {
  "kernelspec": {
   "display_name": "Python 3",
   "language": "python",
   "name": "python3"
  },
  "language_info": {
   "codemirror_mode": {
    "name": "ipython",
    "version": 3
   },
   "file_extension": ".py",
   "mimetype": "text/x-python",
   "name": "python",
   "nbconvert_exporter": "python",
   "pygments_lexer": "ipython3",
   "version": "3.8.5"
  }
 },
 "nbformat": 4,
 "nbformat_minor": 5
}
