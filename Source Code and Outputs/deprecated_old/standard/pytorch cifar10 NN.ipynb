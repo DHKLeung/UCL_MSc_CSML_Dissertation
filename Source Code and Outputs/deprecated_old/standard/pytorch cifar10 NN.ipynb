{
 "cells": [
  {
   "cell_type": "code",
   "execution_count": 1,
   "id": "romantic-purchase",
   "metadata": {
    "executionInfo": {
     "elapsed": 197,
     "status": "ok",
     "timestamp": 1623882982239,
     "user": {
      "displayName": "Daniel H. Leung",
      "photoUrl": "https://lh3.googleusercontent.com/a-/AOh14GgXCFzebYz1uGv2ihM6hqeswMrHPmHtZOloQpE_0A=s64",
      "userId": "09200240480627929504"
     },
     "user_tz": -60
    },
    "id": "romantic-purchase"
   },
   "outputs": [],
   "source": [
    "import torch\n",
    "from torchvision import transforms, datasets"
   ]
  },
  {
   "cell_type": "code",
   "execution_count": 2,
   "id": "TAjCq3CU96un",
   "metadata": {
    "executionInfo": {
     "elapsed": 427,
     "status": "ok",
     "timestamp": 1623882982854,
     "user": {
      "displayName": "Daniel H. Leung",
      "photoUrl": "https://lh3.googleusercontent.com/a-/AOh14GgXCFzebYz1uGv2ihM6hqeswMrHPmHtZOloQpE_0A=s64",
      "userId": "09200240480627929504"
     },
     "user_tz": -60
    },
    "id": "TAjCq3CU96un"
   },
   "outputs": [],
   "source": [
    "'''ResNet in PyTorch.\n",
    "\n",
    "BasicBlock and Bottleneck module is from the original ResNet paper:\n",
    "[1] Kaiming He, Xiangyu Zhang, Shaoqing Ren, Jian Sun\n",
    "    Deep Residual Learning for Image Recognition. arXiv:1512.03385\n",
    "\n",
    "PreActBlock and PreActBottleneck module is from the later paper:\n",
    "[2] Kaiming He, Xiangyu Zhang, Shaoqing Ren, Jian Sun\n",
    "    Identity Mappings in Deep Residual Networks. arXiv:1603.05027\n",
    "'''\n",
    "import torch\n",
    "import torch.nn as nn\n",
    "import torch.nn.functional as F\n",
    "\n",
    "from torch.autograd import Variable\n",
    "\n",
    "\n",
    "def conv3x3(in_planes, out_planes, stride=1):\n",
    "    return nn.Conv2d(in_planes, out_planes, kernel_size=3, stride=stride, padding=1, bias=False)\n",
    "\n",
    "\n",
    "class BasicBlock(nn.Module):\n",
    "    expansion = 1\n",
    "\n",
    "    def __init__(self, in_planes, planes, stride=1):\n",
    "        super(BasicBlock, self).__init__()\n",
    "        self.conv1 = conv3x3(in_planes, planes, stride)\n",
    "        self.bn1 = nn.BatchNorm2d(planes)\n",
    "        self.conv2 = conv3x3(planes, planes)\n",
    "        self.bn2 = nn.BatchNorm2d(planes)\n",
    "\n",
    "        self.shortcut = nn.Sequential()\n",
    "        if stride != 1 or in_planes != self.expansion*planes:\n",
    "            self.shortcut = nn.Sequential(\n",
    "                nn.Conv2d(in_planes, self.expansion*planes, kernel_size=1, stride=stride, bias=False),\n",
    "                nn.BatchNorm2d(self.expansion*planes)\n",
    "            )\n",
    "\n",
    "    def forward(self, x):\n",
    "        out = F.relu(self.bn1(self.conv1(x)))\n",
    "        out = self.bn2(self.conv2(out))\n",
    "        out += self.shortcut(x)\n",
    "        out = F.relu(out)\n",
    "        return out\n",
    "\n",
    "\n",
    "class PreActBlock(nn.Module):\n",
    "    '''Pre-activation version of the BasicBlock.'''\n",
    "    expansion = 1\n",
    "\n",
    "    def __init__(self, in_planes, planes, stride=1):\n",
    "        super(PreActBlock, self).__init__()\n",
    "        self.bn1 = nn.BatchNorm2d(in_planes)\n",
    "        self.conv1 = conv3x3(in_planes, planes, stride)\n",
    "        self.bn2 = nn.BatchNorm2d(planes)\n",
    "        self.conv2 = conv3x3(planes, planes)\n",
    "\n",
    "        self.shortcut = nn.Sequential()\n",
    "        if stride != 1 or in_planes != self.expansion*planes:\n",
    "            self.shortcut = nn.Sequential(\n",
    "                nn.Conv2d(in_planes, self.expansion*planes, kernel_size=1, stride=stride, bias=False)\n",
    "            )\n",
    "\n",
    "    def forward(self, x):\n",
    "        out = F.relu(self.bn1(x))\n",
    "        shortcut = self.shortcut(out)\n",
    "        out = self.conv1(out)\n",
    "        out = self.conv2(F.relu(self.bn2(out)))\n",
    "        out += shortcut\n",
    "        return out\n",
    "\n",
    "\n",
    "class Bottleneck(nn.Module):\n",
    "    expansion = 4\n",
    "\n",
    "    def __init__(self, in_planes, planes, stride=1):\n",
    "        super(Bottleneck, self).__init__()\n",
    "        self.conv1 = nn.Conv2d(in_planes, planes, kernel_size=1, bias=False)\n",
    "        self.bn1 = nn.BatchNorm2d(planes)\n",
    "        self.conv2 = nn.Conv2d(planes, planes, kernel_size=3, stride=stride, padding=1, bias=False)\n",
    "        self.bn2 = nn.BatchNorm2d(planes)\n",
    "        self.conv3 = nn.Conv2d(planes, self.expansion*planes, kernel_size=1, bias=False)\n",
    "        self.bn3 = nn.BatchNorm2d(self.expansion*planes)\n",
    "\n",
    "        self.shortcut = nn.Sequential()\n",
    "        if stride != 1 or in_planes != self.expansion*planes:\n",
    "            self.shortcut = nn.Sequential(\n",
    "                nn.Conv2d(in_planes, self.expansion*planes, kernel_size=1, stride=stride, bias=False),\n",
    "                nn.BatchNorm2d(self.expansion*planes)\n",
    "            )\n",
    "\n",
    "    def forward(self, x):\n",
    "        out = F.relu(self.bn1(self.conv1(x)))\n",
    "        out = F.relu(self.bn2(self.conv2(out)))\n",
    "        out = self.bn3(self.conv3(out))\n",
    "        out += self.shortcut(x)\n",
    "        out = F.relu(out)\n",
    "        return out\n",
    "\n",
    "\n",
    "class PreActBottleneck(nn.Module):\n",
    "    '''Pre-activation version of the original Bottleneck module.'''\n",
    "    expansion = 4\n",
    "\n",
    "    def __init__(self, in_planes, planes, stride=1):\n",
    "        super(PreActBottleneck, self).__init__()\n",
    "        self.bn1 = nn.BatchNorm2d(in_planes)\n",
    "        self.conv1 = nn.Conv2d(in_planes, planes, kernel_size=1, bias=False)\n",
    "        self.bn2 = nn.BatchNorm2d(planes)\n",
    "        self.conv2 = nn.Conv2d(planes, planes, kernel_size=3, stride=stride, padding=1, bias=False)\n",
    "        self.bn3 = nn.BatchNorm2d(planes)\n",
    "        self.conv3 = nn.Conv2d(planes, self.expansion*planes, kernel_size=1, bias=False)\n",
    "\n",
    "        self.shortcut = nn.Sequential()\n",
    "        if stride != 1 or in_planes != self.expansion*planes:\n",
    "            self.shortcut = nn.Sequential(\n",
    "                nn.Conv2d(in_planes, self.expansion*planes, kernel_size=1, stride=stride, bias=False)\n",
    "            )\n",
    "\n",
    "    def forward(self, x):\n",
    "        out = F.relu(self.bn1(x))\n",
    "        shortcut = self.shortcut(out)\n",
    "        out = self.conv1(out)\n",
    "        out = self.conv2(F.relu(self.bn2(out)))\n",
    "        out = self.conv3(F.relu(self.bn3(out)))\n",
    "        out += shortcut\n",
    "        return out\n",
    "\n",
    "\n",
    "class ResNet(nn.Module):\n",
    "    def __init__(self, block, num_blocks, num_classes=10):\n",
    "        super(ResNet, self).__init__()\n",
    "        self.in_planes = 64\n",
    "\n",
    "        self.conv1 = conv3x3(3,64)\n",
    "        self.bn1 = nn.BatchNorm2d(64)\n",
    "        self.layer1 = self._make_layer(block, 64, num_blocks[0], stride=1)\n",
    "        self.layer2 = self._make_layer(block, 128, num_blocks[1], stride=2)\n",
    "        self.layer3 = self._make_layer(block, 256, num_blocks[2], stride=2)\n",
    "        self.layer4 = self._make_layer(block, 512, num_blocks[3], stride=2)\n",
    "        self.linear = nn.Linear(512*block.expansion, num_classes)\n",
    "\n",
    "    def _make_layer(self, block, planes, num_blocks, stride):\n",
    "        strides = [stride] + [1]*(num_blocks-1)\n",
    "        layers = []\n",
    "        for stride in strides:\n",
    "            layers.append(block(self.in_planes, planes, stride))\n",
    "            self.in_planes = planes * block.expansion\n",
    "        return nn.Sequential(*layers)\n",
    "\n",
    "    def forward(self, x, lin=0, lout=5):\n",
    "        out = x\n",
    "        if lin < 1 and lout > -1:\n",
    "            out = self.conv1(out)\n",
    "            out = self.bn1(out)\n",
    "            out = F.relu(out)\n",
    "        if lin < 2 and lout > 0:\n",
    "            out = self.layer1(out)\n",
    "        if lin < 3 and lout > 1:\n",
    "            out = self.layer2(out)\n",
    "        if lin < 4 and lout > 2:\n",
    "            out = self.layer3(out)\n",
    "        if lin < 5 and lout > 3:\n",
    "            out = self.layer4(out)\n",
    "        if lout > 4:\n",
    "            out = F.avg_pool2d(out, 4)\n",
    "            out = out.view(out.size(0), -1)\n",
    "            out = self.linear(out)\n",
    "        return out\n",
    "\n",
    "\n",
    "def ResNet18():\n",
    "    return ResNet(PreActBlock, [2,2,2,2])\n",
    "\n",
    "def ResNet34():\n",
    "    return ResNet(BasicBlock, [3,4,6,3])\n",
    "\n",
    "def ResNet50():\n",
    "    return ResNet(Bottleneck, [3,4,6,3])\n",
    "\n",
    "def ResNet101():\n",
    "    return ResNet(Bottleneck, [3,4,23,3])\n",
    "\n",
    "def ResNet152():\n",
    "    return ResNet(Bottleneck, [3,8,36,3])\n",
    "\n",
    "\n",
    "def test():\n",
    "    net = ResNet18()\n",
    "    y = net(Variable(torch.randn(1,3,32,32)))\n",
    "    print(y.size())\n",
    "\n",
    "# test()\n"
   ]
  },
  {
   "cell_type": "code",
   "execution_count": 3,
   "id": "silver-clear",
   "metadata": {
    "colab": {
     "base_uri": "https://localhost:8080/"
    },
    "executionInfo": {
     "elapsed": 3,
     "status": "ok",
     "timestamp": 1623882982854,
     "user": {
      "displayName": "Daniel H. Leung",
      "photoUrl": "https://lh3.googleusercontent.com/a-/AOh14GgXCFzebYz1uGv2ihM6hqeswMrHPmHtZOloQpE_0A=s64",
      "userId": "09200240480627929504"
     },
     "user_tz": -60
    },
    "id": "silver-clear",
    "outputId": "ff5ffbb1-a452-428b-8c5e-8ad423c380e5"
   },
   "outputs": [
    {
     "data": {
      "text/plain": [
       "<torch._C.Generator at 0x199f3ec14b0>"
      ]
     },
     "execution_count": 3,
     "metadata": {},
     "output_type": "execute_result"
    }
   ],
   "source": [
    "\"\"\"\n",
    "Configuration and Hyperparameters\n",
    "\"\"\"\n",
    "torch.set_default_tensor_type(torch.cuda.FloatTensor)  # default all in GPU\n",
    "\n",
    "transform_train = transforms.Compose([\n",
    "    transforms.RandomCrop(32, padding=4),  # can omit\n",
    "    transforms.RandomHorizontalFlip(),  # can omit\n",
    "    transforms.ToTensor(),\n",
    "    transforms.Normalize(\n",
    "        (0.4914, 0.4822, 0.4465),\n",
    "        (0.2023, 0.1994, 0.2010)\n",
    "    )\n",
    "])\n",
    "\n",
    "transform_test = transforms.Compose([\n",
    "    transforms.ToTensor(),\n",
    "    transforms.Normalize(\n",
    "        (0.4914, 0.4822, 0.4465),\n",
    "        (0.2023, 0.1994, 0.2010)\n",
    "    )\n",
    "])\n",
    "\n",
    "batch_size = 128\n",
    "step_size = 0.1\n",
    "random_seed = 0\n",
    "epochs = 100\n",
    "L2_decay = 1e-4\n",
    "alpha = 1.\n",
    "\n",
    "torch.manual_seed(random_seed)"
   ]
  },
  {
   "cell_type": "code",
   "execution_count": 4,
   "id": "based-criterion",
   "metadata": {
    "colab": {
     "base_uri": "https://localhost:8080/"
    },
    "executionInfo": {
     "elapsed": 1872,
     "status": "ok",
     "timestamp": 1623883150659,
     "user": {
      "displayName": "Daniel H. Leung",
      "photoUrl": "https://lh3.googleusercontent.com/a-/AOh14GgXCFzebYz1uGv2ihM6hqeswMrHPmHtZOloQpE_0A=s64",
      "userId": "09200240480627929504"
     },
     "user_tz": -60
    },
    "id": "based-criterion",
    "outputId": "b3b40140-5a7e-4d96-901d-26d4829b4ccc"
   },
   "outputs": [
    {
     "name": "stdout",
     "output_type": "stream",
     "text": [
      "Files already downloaded and verified\n",
      "Files already downloaded and verified\n"
     ]
    }
   ],
   "source": [
    "\"\"\"\n",
    "Data\n",
    "\"\"\"\n",
    "train_set = datasets.CIFAR10(root='./data', train=True, download=True, transform=transform_train)\n",
    "train_loader = torch.utils.data.DataLoader(train_set, batch_size=batch_size, shuffle=True, num_workers=0)\n",
    "test_set = datasets.CIFAR10(root='./data', train=False, download=True, transform=transform_test)\n",
    "test_loader = torch.utils.data.DataLoader(test_set, batch_size=batch_size, shuffle=False, num_workers=0)"
   ]
  },
  {
   "cell_type": "code",
   "execution_count": 5,
   "id": "shared-withdrawal",
   "metadata": {
    "executionInfo": {
     "elapsed": 10843,
     "status": "ok",
     "timestamp": 1623883049935,
     "user": {
      "displayName": "Daniel H. Leung",
      "photoUrl": "https://lh3.googleusercontent.com/a-/AOh14GgXCFzebYz1uGv2ihM6hqeswMrHPmHtZOloQpE_0A=s64",
      "userId": "09200240480627929504"
     },
     "user_tz": -60
    },
    "id": "shared-withdrawal"
   },
   "outputs": [],
   "source": [
    "model = ResNet18()\n",
    "criterion = torch.nn.CrossEntropyLoss()\n",
    "optimizer = torch.optim.SGD(model.parameters(), lr=step_size, momentum=0.9, weight_decay=L2_decay)"
   ]
  },
  {
   "cell_type": "code",
   "execution_count": 6,
   "id": "regulated-scope",
   "metadata": {
    "colab": {
     "base_uri": "https://localhost:8080/"
    },
    "executionInfo": {
     "elapsed": 3866584,
     "status": "ok",
     "timestamp": 1623887024720,
     "user": {
      "displayName": "Daniel H. Leung",
      "photoUrl": "https://lh3.googleusercontent.com/a-/AOh14GgXCFzebYz1uGv2ihM6hqeswMrHPmHtZOloQpE_0A=s64",
      "userId": "09200240480627929504"
     },
     "user_tz": -60
    },
    "id": "regulated-scope",
    "outputId": "cbe08417-cc20-49c9-e295-e0a9fe7b9702"
   },
   "outputs": [
    {
     "name": "stdout",
     "output_type": "stream",
     "text": [
      "0: 653.4124202728271\n",
      "1: 460.12920862436295\n",
      "2: 345.27573198080063\n",
      "3: 275.1526939868927\n",
      "4: 230.5017955005169\n",
      "5: 203.00557208061218\n",
      "6: 179.1810616850853\n",
      "7: 160.54086770117283\n",
      "8: 148.47772638499737\n",
      "9: 136.60161462426186\n",
      "10: 127.49478180706501\n",
      "11: 118.6640956401825\n",
      "12: 112.81503853946924\n",
      "13: 104.47133263200521\n",
      "14: 100.44132840633392\n",
      "15: 95.70047155767679\n",
      "16: 90.13142983615398\n",
      "17: 86.70797739923\n",
      "18: 81.70326488465071\n",
      "19: 81.03353203088045\n",
      "20: 76.9512684121728\n",
      "21: 72.63003454729915\n",
      "22: 71.90020726621151\n",
      "23: 69.36570446565747\n",
      "24: 66.18627976626158\n",
      "25: 66.19583751261234\n",
      "26: 63.29472727701068\n",
      "27: 61.4652127251029\n",
      "28: 59.71589723601937\n",
      "29: 59.79643950983882\n",
      "30: 57.7523074708879\n",
      "31: 55.96187634766102\n",
      "32: 55.18977474048734\n",
      "33: 54.150147799402475\n",
      "34: 50.17049289122224\n",
      "35: 52.67059467360377\n",
      "36: 49.46399391815066\n",
      "37: 51.95469995029271\n",
      "38: 49.61486948467791\n",
      "39: 47.68559377640486\n",
      "40: 48.807636177167296\n",
      "41: 49.311600003391504\n",
      "42: 49.52663258835673\n",
      "43: 45.58272003568709\n",
      "44: 45.4426764305681\n",
      "45: 46.283657025545835\n",
      "46: 42.91650830581784\n",
      "47: 46.11283249780536\n",
      "48: 42.33295664563775\n",
      "49: 42.71699955500662\n",
      "50: 44.7739430218935\n",
      "51: 42.568587094545364\n",
      "52: 42.02398423664272\n",
      "53: 41.37884617596865\n",
      "54: 46.35140544362366\n",
      "55: 42.498833449557424\n",
      "56: 40.42797137610614\n",
      "57: 43.40239373873919\n",
      "58: 39.37071997486055\n",
      "59: 41.512808091938496\n",
      "60: 41.24794802069664\n",
      "61: 37.83677102997899\n",
      "62: 38.55900041013956\n",
      "63: 39.889945881441236\n",
      "64: 39.461328288540244\n",
      "65: 39.73856752552092\n",
      "66: 39.78454339131713\n",
      "67: 39.963922603055835\n",
      "68: 38.872835747897625\n",
      "69: 38.048051023855805\n",
      "70: 38.134778736159205\n",
      "71: 39.35899174027145\n",
      "72: 36.02984128147364\n",
      "73: 39.46877824142575\n",
      "74: 37.70236666686833\n",
      "75: 38.40363879688084\n",
      "76: 35.82009274326265\n",
      "77: 37.19161787815392\n",
      "78: 36.051839815452695\n",
      "79: 36.152366971597075\n",
      "80: 37.15959121938795\n",
      "81: 38.03515273705125\n",
      "82: 38.365433976985514\n",
      "83: 36.35445885360241\n",
      "84: 35.43484733905643\n",
      "85: 35.62557332776487\n",
      "86: 36.3355965949595\n",
      "87: 38.16774527169764\n",
      "88: 34.9676414988935\n",
      "89: 36.81227542459965\n",
      "90: 34.5943072270602\n",
      "91: 36.50867097917944\n",
      "92: 34.94357009604573\n",
      "93: 35.18988477671519\n",
      "94: 34.35899364762008\n",
      "95: 34.956136751919985\n",
      "96: 34.68629893660545\n",
      "97: 36.9956370126456\n",
      "98: 35.54831162746996\n",
      "99: 34.290831316262484\n"
     ]
    }
   ],
   "source": [
    "\"\"\"\n",
    "Training\n",
    "\"\"\"\n",
    "model.train()\n",
    "for epoch in range(epochs):\n",
    "    epoch_loss = 0.\n",
    "    for i, data in enumerate(train_loader, 0):\n",
    "        inputs, labels = data\n",
    "        inputs = inputs.to('cuda')\n",
    "        labels = labels.to('cuda')\n",
    "        optimizer.zero_grad()\n",
    "        outputs = model(inputs)\n",
    "        loss = criterion(outputs, labels)\n",
    "        epoch_loss += loss.item()\n",
    "        loss.backward()\n",
    "        optimizer.step()\n",
    "    print('{}: {}'.format(epoch, epoch_loss))"
   ]
  },
  {
   "cell_type": "code",
   "execution_count": 7,
   "id": "documented-revision",
   "metadata": {
    "executionInfo": {
     "elapsed": 6,
     "status": "aborted",
     "timestamp": 1623882990455,
     "user": {
      "displayName": "Daniel H. Leung",
      "photoUrl": "https://lh3.googleusercontent.com/a-/AOh14GgXCFzebYz1uGv2ihM6hqeswMrHPmHtZOloQpE_0A=s64",
      "userId": "09200240480627929504"
     },
     "user_tz": -60
    },
    "id": "documented-revision"
   },
   "outputs": [
    {
     "data": {
      "text/plain": [
       "<All keys matched successfully>"
      ]
     },
     "execution_count": 7,
     "metadata": {},
     "output_type": "execute_result"
    }
   ],
   "source": [
    "torch.save(model.state_dict(), './model_pytorch_cifar10')\n",
    "model = ResNet18()\n",
    "model.load_state_dict(torch.load('./model_pytorch_cifar10'))"
   ]
  },
  {
   "cell_type": "code",
   "execution_count": 8,
   "id": "indirect-glass",
   "metadata": {
    "colab": {
     "base_uri": "https://localhost:8080/"
    },
    "executionInfo": {
     "elapsed": 4000,
     "status": "ok",
     "timestamp": 1623888706885,
     "user": {
      "displayName": "Daniel H. Leung",
      "photoUrl": "https://lh3.googleusercontent.com/a-/AOh14GgXCFzebYz1uGv2ihM6hqeswMrHPmHtZOloQpE_0A=s64",
      "userId": "09200240480627929504"
     },
     "user_tz": -60
    },
    "id": "indirect-glass",
    "outputId": "a6f5b6d7-0449-4fd2-b464-4716ce2bfe3a"
   },
   "outputs": [
    {
     "name": "stdout",
     "output_type": "stream",
     "text": [
      "0.8922\n"
     ]
    }
   ],
   "source": [
    "model.eval()\n",
    "correct = 0\n",
    "total = 0\n",
    "with torch.no_grad():\n",
    "    for data in test_loader:\n",
    "        inputs, labels = data\n",
    "        inputs = inputs.to('cuda')\n",
    "        labels = labels.to('cuda')\n",
    "        outputs = model(inputs)\n",
    "        _, predicted = torch.max(outputs, 1)\n",
    "        total += labels.size(0)\n",
    "        correct += (predicted == labels).sum().item()\n",
    "print(correct / total)"
   ]
  },
  {
   "cell_type": "code",
   "execution_count": null,
   "id": "major-multimedia",
   "metadata": {
    "executionInfo": {
     "elapsed": 7,
     "status": "aborted",
     "timestamp": 1623882990456,
     "user": {
      "displayName": "Daniel H. Leung",
      "photoUrl": "https://lh3.googleusercontent.com/a-/AOh14GgXCFzebYz1uGv2ihM6hqeswMrHPmHtZOloQpE_0A=s64",
      "userId": "09200240480627929504"
     },
     "user_tz": -60
    },
    "id": "major-multimedia"
   },
   "outputs": [],
   "source": []
  }
 ],
 "metadata": {
  "accelerator": "GPU",
  "colab": {
   "collapsed_sections": [],
   "name": "pytorch cifar10.ipynb",
   "provenance": []
  },
  "kernelspec": {
   "display_name": "Python 3",
   "language": "python",
   "name": "python3"
  },
  "language_info": {
   "codemirror_mode": {
    "name": "ipython",
    "version": 3
   },
   "file_extension": ".py",
   "mimetype": "text/x-python",
   "name": "python",
   "nbconvert_exporter": "python",
   "pygments_lexer": "ipython3",
   "version": "3.8.5"
  }
 },
 "nbformat": 4,
 "nbformat_minor": 5
}
