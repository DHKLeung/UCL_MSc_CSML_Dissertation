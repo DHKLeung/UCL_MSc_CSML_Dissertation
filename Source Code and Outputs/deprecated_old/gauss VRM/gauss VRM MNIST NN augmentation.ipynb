{
 "cells": [
  {
   "cell_type": "code",
   "execution_count": 1,
   "id": "continental-platform",
   "metadata": {},
   "outputs": [],
   "source": [
    "import torch\n",
    "from torchvision import transforms, datasets, models"
   ]
  },
  {
   "cell_type": "code",
   "execution_count": 2,
   "id": "cultural-recorder",
   "metadata": {},
   "outputs": [
    {
     "data": {
      "text/plain": [
       "<torch._C.Generator at 0x1d1354514d0>"
      ]
     },
     "execution_count": 2,
     "metadata": {},
     "output_type": "execute_result"
    }
   ],
   "source": [
    "\"\"\"\n",
    "Configuration and Hyperparameters\n",
    "\"\"\"\n",
    "torch.set_default_tensor_type(torch.cuda.FloatTensor)  # default all in GPU\n",
    "\n",
    "transform = transforms.Compose([\n",
    "    transforms.ToTensor(),\n",
    "    transforms.Normalize((0.1307,), (0.3081,))\n",
    "])\n",
    "\n",
    "batch_size = 128\n",
    "step_size = 0.01\n",
    "random_seed = 0\n",
    "epochs = 80\n",
    "L2_decay = 1e-4\n",
    "gauss_vicinal_std = 0.25\n",
    "\n",
    "torch.manual_seed(random_seed)"
   ]
  },
  {
   "cell_type": "code",
   "execution_count": 3,
   "id": "international-retailer",
   "metadata": {},
   "outputs": [],
   "source": [
    "\"\"\"\n",
    "Data\n",
    "\"\"\"\n",
    "train_set = datasets.MNIST('./data', train=True, download=True, transform=transform)\n",
    "train_loader = torch.utils.data.DataLoader(train_set, batch_size=batch_size, shuffle=True, num_workers=8)\n",
    "test_set = datasets.MNIST('./data', train=False, download=True, transform=transform)\n",
    "test_loader = torch.utils.data.DataLoader(test_set, batch_size=batch_size, shuffle=False, num_workers=8)"
   ]
  },
  {
   "cell_type": "code",
   "execution_count": 4,
   "id": "brown-employee",
   "metadata": {},
   "outputs": [],
   "source": [
    "model = models.resnet18(pretrained=True)\n",
    "for param in model.parameters():\n",
    "    param.requires_grad = True\n",
    "model.conv1 = torch.nn.Conv2d(1, 64, 7, stride=2, padding=3, bias=False)\n",
    "model.fc = torch.nn.Linear(512, 10)\n",
    "criterion = torch.nn.CrossEntropyLoss()\n",
    "optimizer = torch.optim.SGD(model.parameters(), lr=step_size, momentum=0.9, weight_decay=L2_decay)"
   ]
  },
  {
   "cell_type": "code",
   "execution_count": 5,
   "id": "artificial-compilation",
   "metadata": {},
   "outputs": [],
   "source": [
    "def gauss_vicinal(inputs, gauss_vicinal_std):\n",
    "    inputs_gauss = torch.normal(inputs, gauss_vicinal_std)\n",
    "    return inputs_gauss"
   ]
  },
  {
   "cell_type": "code",
   "execution_count": 6,
   "id": "adaptive-short",
   "metadata": {
    "scrolled": true
   },
   "outputs": [
    {
     "name": "stdout",
     "output_type": "stream",
     "text": [
      "0: 79.05954274348915 76.25249055260792 155.31203251332045\n",
      "1: 23.715662434580736 21.932152105029672 45.64781444054097\n",
      "2: 15.561147149885073 14.43421734625008 29.99536444316618\n",
      "3: 12.56916669983184 11.293473368830746 23.86264003108954\n",
      "4: 9.80826793028973 8.594138295622543 18.40240619733231\n",
      "5: 8.273872400313849 7.019435923837591 15.293308278953191\n",
      "6: 7.573212740273448 6.3866553793195635 13.959868192439899\n",
      "7: 6.064281513710739 5.30011637568532 11.364397897501476\n",
      "8: 4.884694334730739 4.055035146368027 8.93972944834968\n",
      "9: 4.192387229788437 3.1204996980159194 7.3128869218198815\n",
      "10: 3.406780550030817 2.5840504018051433 5.990830956128775\n",
      "11: 2.773184236295492 1.9674943714617257 4.740678614602075\n",
      "12: 3.5567236715833133 2.7312019145429076 6.28792560337024\n",
      "13: 3.2624796344098286 2.4496154176340497 5.712095046961622\n",
      "14: 2.554334854316039 1.7586563883069175 4.3129912359436275\n",
      "15: 3.274953437412478 2.420976756791788 5.695930189860519\n",
      "16: 2.24120836532893 1.808267082549719 4.049475440275273\n",
      "17: 1.940824937510115 1.3202406531363522 3.2610655845855945\n",
      "18: 1.577407320402017 1.0467384346998188 2.624145758951272\n",
      "19: 2.363542184844846 1.901120405801521 4.264662596366179\n",
      "20: 1.4712987559360045 0.9272597492981731 2.398558496264741\n",
      "21: 1.7073592771048425 1.1978209882690862 2.9051802684844006\n",
      "22: 1.4796270444139736 1.0536577382245014 2.53328477325158\n",
      "23: 1.3184313132132957 0.8356856960162986 2.1541170234268066\n",
      "24: 1.4080838815252719 1.005862103270374 2.413945994710957\n",
      "25: 1.141109367928948 0.86243755274063 2.0035469197609928\n",
      "26: 0.8246984998081643 0.45947772221688865 1.284176224942712\n",
      "27: 0.5612088042405503 0.31618140219643465 0.8773902063157948\n",
      "28: 1.0535150113860254 0.7089988844713844 1.7625138863199936\n",
      "29: 1.5813839868851574 1.0458822091000002 2.627266205572596\n",
      "30: 1.1697447255837687 0.8114233209125814 1.981168054671798\n",
      "31: 1.0847550474845775 0.7740956787401956 1.858850722986972\n",
      "32: 2.1958704621702054 1.7629079180401277 3.958778369231368\n",
      "33: 1.3707727543323927 0.9382063664352245 2.308979116854971\n",
      "34: 0.8527789979621048 0.5734626635330642 1.4262416561450664\n",
      "35: 1.247828888686854 0.7190713518921257 1.9669002386799548\n",
      "36: 0.4545777545213241 0.3105997723996552 0.7651775332451507\n",
      "37: 0.2822948419543536 0.16100111100695358 0.44329595462886573\n",
      "38: 0.5379275569409856 0.3218561913956819 0.8597837648881068\n",
      "39: 0.17027574305166127 0.05603507569003341 0.22631081993495172\n",
      "40: 0.2912776990142447 0.10899664906992257 0.40027434593730504\n",
      "41: 0.5575647172538538 0.32545898496800874 0.8830236979965775\n",
      "42: 0.9841257908897205 0.6785311193621055 1.66265691019089\n",
      "43: 0.4980923515158793 0.34667550113113066 0.8447678504107898\n",
      "44: 1.3023032763858282 0.8294515460438561 2.131754820351489\n",
      "45: 0.96914979453868 0.6994249124218186 1.6685747059982532\n",
      "46: 0.5911742707194207 0.28367297619706733 0.8748472420265898\n",
      "47: 0.3387582832529006 0.1541139969476717 0.49287227686318147\n",
      "48: 0.881570748381364 0.5567914239170477 1.438362182777837\n",
      "49: 0.6224836552576107 0.34865449504047774 0.9711381479760348\n",
      "50: 0.4319210526327879 0.2542178568392046 0.6861389099385633\n",
      "51: 1.6858204741593 1.1360596108470418 2.8218800777603974\n",
      "52: 0.6939660664652365 0.4177966405322877 1.1117627168932813\n",
      "53: 0.7083570066188258 0.43920203570496597 1.1475590358477348\n",
      "54: 0.21923137096518985 0.08146656102917404 0.30069793113034393\n",
      "55: 0.5464135500992597 0.24872142618505677 0.79513497816788\n",
      "56: 1.7523695689596934 1.2413581431796956 2.993727718358059\n",
      "57: 1.0112406588832528 0.5669015687217325 1.5781422259642568\n",
      "58: 0.395448963482977 0.24171402079764448 0.6371629829773156\n",
      "59: 0.781452698686735 0.444224521281285 1.2256772226000976\n",
      "60: 0.2912909922433755 0.131249596176076 0.4225405846682406\n",
      "61: 0.14827993559038077 0.057573700915781956 0.20585363892860187\n",
      "62: 0.184814277561145 0.03589352031076487 0.2207077980892791\n",
      "63: 0.1818433569028457 0.11004518382947026 0.2918885418575883\n",
      "64: 0.49673067443700347 0.25877440359249704 0.7555050787207165\n",
      "65: 0.8939273027303898 0.6383710929999324 1.5322983959727026\n",
      "66: 0.460559343744535 0.2969430258799548 0.7575023718682132\n",
      "67: 0.1694900629595395 0.09338696238569355 0.26287702392437495\n",
      "68: 0.3449947826377411 0.21494147398902896 0.5599362609227683\n",
      "69: 0.15996770020228723 0.05780178733766661 0.21776948669867124\n",
      "70: 0.16684507495529033 0.13564299411336833 0.30248806771942327\n",
      "71: 0.24491719807519985 0.1779962879231789 0.42291349019615154\n",
      "72: 0.18523187313667222 0.053912956818976454 0.23914483243243012\n",
      "73: 0.8773488308306696 0.6019885792261448 1.4793374070168284\n",
      "74: 1.4883756112476476 1.080741483860038 2.569117092880333\n",
      "75: 1.5818478884648357 1.1107697115330666 2.692617605360283\n",
      "76: 1.333142425661208 0.8877615894016344 2.2209040194029512\n",
      "77: 1.5615916313072375 1.0937041012803093 2.655295736334665\n",
      "78: 0.9026602989051753 0.5490188078620122 1.4516791143651062\n",
      "79: 0.7601665507536381 0.4735545606708911 1.2337211187641515\n"
     ]
    }
   ],
   "source": [
    "\"\"\"\n",
    "Training\n",
    "\"\"\"\n",
    "model.train()\n",
    "for epoch in range(epochs):\n",
    "    epoch_loss = 0.\n",
    "    epoch_gauss_loss = 0.\n",
    "    epoch_org_loss = 0.\n",
    "    for i, data in enumerate(train_loader, 0):\n",
    "        inputs, labels = data\n",
    "        inputs = inputs.to('cuda')\n",
    "        labels = labels.to('cuda')\n",
    "        inputs_gauss = gauss_vicinal(inputs, gauss_vicinal_std)\n",
    "        optimizer.zero_grad()\n",
    "        outputs = model(inputs_gauss)\n",
    "        \n",
    "        ##\n",
    "        gauss_loss = criterion(outputs, labels)\n",
    "        \n",
    "        outputs_org = model(inputs)\n",
    "        loss_org = criterion(outputs_org, labels)\n",
    "        total_loss = gauss_loss + loss_org\n",
    "        \n",
    "        epoch_gauss_loss += gauss_loss.item()\n",
    "        epoch_org_loss += loss_org.item()\n",
    "        \n",
    "        epoch_loss += total_loss.item()\n",
    "        total_loss.backward()\n",
    "        ##\n",
    "        \n",
    "        optimizer.step()\n",
    "    print('{}: {} {} {}'.format(epoch, epoch_gauss_loss, epoch_org_loss, epoch_loss))"
   ]
  },
  {
   "cell_type": "code",
   "execution_count": 7,
   "id": "armed-contact",
   "metadata": {},
   "outputs": [
    {
     "data": {
      "text/plain": [
       "<All keys matched successfully>"
      ]
     },
     "execution_count": 7,
     "metadata": {},
     "output_type": "execute_result"
    }
   ],
   "source": [
    "torch.save(model.state_dict(), './gauss_model_pytorch_mnist')\n",
    "model = models.resnet18(pretrained=False)\n",
    "model.conv1 = torch.nn.Conv2d(1, 64, 7, stride=2, padding=3, bias=False)\n",
    "model.fc = torch.nn.Linear(512, 10)\n",
    "model.load_state_dict(torch.load('./gauss_model_pytorch_mnist'))"
   ]
  },
  {
   "cell_type": "code",
   "execution_count": 8,
   "id": "competitive-penny",
   "metadata": {},
   "outputs": [
    {
     "name": "stdout",
     "output_type": "stream",
     "text": [
      "0.9929\n"
     ]
    }
   ],
   "source": [
    "model.eval()\n",
    "correct = 0\n",
    "total = 0\n",
    "with torch.no_grad():\n",
    "    for data in test_loader:\n",
    "        inputs, labels = data\n",
    "        inputs = inputs.to('cuda')\n",
    "        labels = labels.to('cuda')\n",
    "        outputs = model(inputs)\n",
    "        _, predicts = torch.max(outputs, 1)\n",
    "        total += labels.size(0)\n",
    "        correct += (predicts == labels).sum().item()\n",
    "print(correct / total)"
   ]
  },
  {
   "cell_type": "code",
   "execution_count": 9,
   "id": "victorian-financing",
   "metadata": {},
   "outputs": [
    {
     "name": "stdout",
     "output_type": "stream",
     "text": [
      "0.9999666666666667\n"
     ]
    }
   ],
   "source": [
    "model.eval()\n",
    "correct = 0\n",
    "total = 0\n",
    "with torch.no_grad():\n",
    "    for data in train_loader:\n",
    "        inputs, labels = data\n",
    "        inputs = inputs.to('cuda')\n",
    "        labels = labels.to('cuda')\n",
    "        outputs = model(inputs)\n",
    "        _, predicts = torch.max(outputs, 1)\n",
    "        total += labels.size(0)\n",
    "        correct += (predicts == labels).sum().item()\n",
    "print(correct / total)"
   ]
  },
  {
   "cell_type": "code",
   "execution_count": null,
   "id": "capital-situation",
   "metadata": {},
   "outputs": [],
   "source": []
  }
 ],
 "metadata": {
  "kernelspec": {
   "display_name": "Python 3",
   "language": "python",
   "name": "python3"
  },
  "language_info": {
   "codemirror_mode": {
    "name": "ipython",
    "version": 3
   },
   "file_extension": ".py",
   "mimetype": "text/x-python",
   "name": "python",
   "nbconvert_exporter": "python",
   "pygments_lexer": "ipython3",
   "version": "3.8.5"
  }
 },
 "nbformat": 4,
 "nbformat_minor": 5
}
