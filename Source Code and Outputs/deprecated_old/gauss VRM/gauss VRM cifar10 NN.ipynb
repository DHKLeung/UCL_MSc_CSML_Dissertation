{
 "cells": [
  {
   "cell_type": "code",
   "execution_count": 1,
   "id": "romantic-purchase",
   "metadata": {},
   "outputs": [],
   "source": [
    "import torch\n",
    "from torchvision import transforms, datasets\n",
    "import models"
   ]
  },
  {
   "cell_type": "code",
   "execution_count": 2,
   "id": "silver-clear",
   "metadata": {},
   "outputs": [
    {
     "data": {
      "text/plain": [
       "<torch._C.Generator at 0x1c041f104d0>"
      ]
     },
     "execution_count": 2,
     "metadata": {},
     "output_type": "execute_result"
    }
   ],
   "source": [
    "\"\"\"\n",
    "Configuration and Hyperparameters\n",
    "\"\"\"\n",
    "torch.set_default_tensor_type(torch.cuda.FloatTensor)  # default all in GPU\n",
    "\n",
    "transform_train = transforms.Compose([\n",
    "    transforms.RandomCrop(32, padding=4),  # can omit\n",
    "    transforms.RandomHorizontalFlip(),  # can omit\n",
    "    transforms.ToTensor(),\n",
    "    transforms.Normalize(\n",
    "        (0.4914, 0.4822, 0.4465),\n",
    "        (0.2023, 0.1994, 0.2010)\n",
    "    )\n",
    "])\n",
    "\n",
    "transform_test = transforms.Compose([\n",
    "    transforms.ToTensor(),\n",
    "    transforms.Normalize(\n",
    "        (0.4914, 0.4822, 0.4465),\n",
    "        (0.2023, 0.1994, 0.2010)\n",
    "    )\n",
    "])\n",
    "\n",
    "batch_size = 128\n",
    "step_size = 0.1\n",
    "random_seed = 0\n",
    "epochs = 100\n",
    "L2_decay = 1e-4\n",
    "gauss_vicinal_std = 0.25\n",
    "\n",
    "torch.manual_seed(random_seed)"
   ]
  },
  {
   "cell_type": "code",
   "execution_count": 3,
   "id": "relative-mobility",
   "metadata": {},
   "outputs": [
    {
     "name": "stdout",
     "output_type": "stream",
     "text": [
      "Files already downloaded and verified\n",
      "Files already downloaded and verified\n"
     ]
    }
   ],
   "source": [
    "\"\"\"\n",
    "Data\n",
    "\"\"\"\n",
    "train_set = datasets.CIFAR10(root='./data', train=True, download=True, transform=transform_train)\n",
    "train_loader = torch.utils.data.DataLoader(train_set, batch_size=batch_size, shuffle=True, num_workers=8)\n",
    "test_set = datasets.CIFAR10(root='./data', train=False, download=True, transform=transform_test)\n",
    "test_loader = torch.utils.data.DataLoader(test_set, batch_size=batch_size, shuffle=False, num_workers=8)"
   ]
  },
  {
   "cell_type": "code",
   "execution_count": 4,
   "id": "starting-chancellor",
   "metadata": {},
   "outputs": [],
   "source": [
    "model = models.__dict__['ResNet18']()\n",
    "criterion = torch.nn.CrossEntropyLoss()\n",
    "optimizer = torch.optim.SGD(model.parameters(), lr=step_size, momentum=0.9, weight_decay=L2_decay)"
   ]
  },
  {
   "cell_type": "code",
   "execution_count": 5,
   "id": "sublime-honolulu",
   "metadata": {},
   "outputs": [],
   "source": [
    "def gauss_vicinal(inputs, gauss_vicinal_std):\n",
    "    inputs_gauss = torch.normal(inputs, gauss_vicinal_std)\n",
    "    return inputs_gauss"
   ]
  },
  {
   "cell_type": "code",
   "execution_count": 6,
   "id": "written-bookmark",
   "metadata": {
    "scrolled": true
   },
   "outputs": [
    {
     "name": "stdout",
     "output_type": "stream",
     "text": [
      "0: 627.465212225914\n",
      "1: 444.6420153975487\n",
      "2: 355.1243146657944\n",
      "3: 297.7835254371166\n",
      "4: 260.7003476023674\n",
      "5: 231.77259382605553\n",
      "6: 214.85467541217804\n",
      "7: 197.6988164782524\n",
      "8: 186.06376150250435\n",
      "9: 172.3618279993534\n",
      "10: 165.77817930281162\n",
      "11: 156.5470260977745\n",
      "12: 149.48277381062508\n",
      "13: 142.67068864405155\n",
      "14: 137.3132664859295\n",
      "15: 130.78425869345665\n",
      "16: 128.45121905207634\n",
      "17: 123.56266961991787\n",
      "18: 118.02041666209698\n",
      "19: 114.61374358832836\n",
      "20: 111.10151681303978\n",
      "21: 108.44731068611145\n",
      "22: 105.71356572210789\n",
      "23: 104.81287098675966\n",
      "24: 101.08970533311367\n",
      "25: 97.83019200712442\n",
      "26: 97.67572692781687\n",
      "27: 94.27546255290508\n",
      "28: 92.01549385488033\n",
      "29: 92.44790637493134\n",
      "30: 89.16870843619108\n",
      "31: 85.66438357532024\n",
      "32: 85.36193803697824\n",
      "33: 84.76138945668936\n",
      "34: 83.02898990362883\n",
      "35: 79.43821177631617\n",
      "36: 81.97182720154524\n",
      "37: 80.86381334066391\n",
      "38: 78.70818359404802\n",
      "39: 77.01568362116814\n",
      "40: 76.82536789774895\n",
      "41: 73.53598108887672\n",
      "42: 73.92624707520008\n",
      "43: 73.23817817121744\n",
      "44: 71.91749671846628\n",
      "45: 73.8169442564249\n",
      "46: 72.58908278495073\n",
      "47: 69.52477269619703\n",
      "48: 69.71127923950553\n",
      "49: 70.25414025783539\n",
      "50: 66.60246740281582\n",
      "51: 67.31832049787045\n",
      "52: 67.88024281337857\n",
      "53: 66.50586031749845\n",
      "54: 66.73978506028652\n",
      "55: 66.2452191375196\n",
      "56: 66.45965427905321\n",
      "57: 64.03158352524042\n",
      "58: 63.789274632930756\n",
      "59: 62.877669747918844\n",
      "60: 60.28885183110833\n",
      "61: 63.15927492827177\n",
      "62: 63.39873281866312\n",
      "63: 62.47933531925082\n",
      "64: 60.70515979081392\n",
      "65: 61.65966272726655\n",
      "66: 62.28939098492265\n",
      "67: 61.455049589276314\n",
      "68: 61.77662418782711\n",
      "69: 60.49445031955838\n",
      "70: 58.99348086491227\n",
      "71: 60.36754874512553\n",
      "72: 59.52631101757288\n",
      "73: 58.97891962900758\n",
      "74: 58.987544510513544\n",
      "75: 57.79656179994345\n",
      "76: 59.868911761790514\n",
      "77: 58.692620400339365\n",
      "78: 58.194909155368805\n",
      "79: 56.98754822090268\n",
      "80: 55.70281235873699\n",
      "81: 59.18768261373043\n",
      "82: 56.0458508618176\n",
      "83: 56.92241841554642\n",
      "84: 55.73480027541518\n",
      "85: 54.39377777278423\n",
      "86: 57.88237094134092\n",
      "87: 57.236576944589615\n",
      "88: 57.19728160649538\n",
      "89: 53.93178668618202\n",
      "90: 54.24355882778764\n",
      "91: 56.038038689643145\n",
      "92: 55.57788971066475\n",
      "93: 55.94775264337659\n",
      "94: 55.19900407269597\n",
      "95: 55.470426354557276\n",
      "96: 53.82446860894561\n",
      "97: 54.603269442915916\n",
      "98: 53.16180468723178\n",
      "99: 55.026982348412275\n"
     ]
    }
   ],
   "source": [
    "\"\"\"\n",
    "Training\n",
    "\"\"\"\n",
    "model.train()\n",
    "for epoch in range(epochs):\n",
    "    epoch_loss = 0.\n",
    "    for i, data in enumerate(train_loader, 0):\n",
    "        inputs, labels = data\n",
    "        inputs = inputs.to('cuda')\n",
    "        labels = labels.to('cuda')\n",
    "        inputs_gauss = gauss_vicinal(inputs, gauss_vicinal_std)\n",
    "        optimizer.zero_grad()\n",
    "        outputs = model(inputs_gauss)\n",
    "        loss = criterion(outputs, labels)\n",
    "        epoch_loss += loss.item()\n",
    "        loss.backward()\n",
    "        optimizer.step()\n",
    "    print('{}: {}'.format(epoch, epoch_loss))"
   ]
  },
  {
   "cell_type": "code",
   "execution_count": 7,
   "id": "frozen-damage",
   "metadata": {},
   "outputs": [
    {
     "data": {
      "text/plain": [
       "<All keys matched successfully>"
      ]
     },
     "execution_count": 7,
     "metadata": {},
     "output_type": "execute_result"
    }
   ],
   "source": [
    "torch.save(model.state_dict(), './gauss_model_pytorch_cifar10')\n",
    "model = models.__dict__['ResNet18']()\n",
    "model.load_state_dict(torch.load('./gauss_model_pytorch_cifar10'))"
   ]
  },
  {
   "cell_type": "code",
   "execution_count": 8,
   "id": "aboriginal-lafayette",
   "metadata": {},
   "outputs": [
    {
     "name": "stdout",
     "output_type": "stream",
     "text": [
      "0.8917\n"
     ]
    }
   ],
   "source": [
    "model.eval()\n",
    "correct = 0\n",
    "total = 0\n",
    "with torch.no_grad():\n",
    "    for data in test_loader:\n",
    "        inputs, labels = data\n",
    "        inputs = inputs.to('cuda')\n",
    "        labels = labels.to('cuda')\n",
    "        outputs = model(inputs)\n",
    "        _, predicts = torch.max(outputs, 1)\n",
    "        total += labels.size(0)\n",
    "        correct += (predicts == labels).sum().item()\n",
    "print(correct / total)"
   ]
  },
  {
   "cell_type": "code",
   "execution_count": 9,
   "id": "therapeutic-orlando",
   "metadata": {},
   "outputs": [
    {
     "name": "stdout",
     "output_type": "stream",
     "text": [
      "0.96418\n"
     ]
    }
   ],
   "source": [
    "model.eval()\n",
    "correct = 0\n",
    "total = 0\n",
    "with torch.no_grad():\n",
    "    for data in train_loader:\n",
    "        inputs, labels = data\n",
    "        inputs = inputs.to('cuda')\n",
    "        labels = labels.to('cuda')\n",
    "        outputs = model(inputs)\n",
    "        _, predicts = torch.max(outputs, 1)\n",
    "        total += labels.size(0)\n",
    "        correct += (predicts == labels).sum().item()\n",
    "print(correct / total)"
   ]
  },
  {
   "cell_type": "code",
   "execution_count": null,
   "id": "brutal-consent",
   "metadata": {},
   "outputs": [],
   "source": []
  }
 ],
 "metadata": {
  "kernelspec": {
   "display_name": "Python 3",
   "language": "python",
   "name": "python3"
  },
  "language_info": {
   "codemirror_mode": {
    "name": "ipython",
    "version": 3
   },
   "file_extension": ".py",
   "mimetype": "text/x-python",
   "name": "python",
   "nbconvert_exporter": "python",
   "pygments_lexer": "ipython3",
   "version": "3.8.5"
  }
 },
 "nbformat": 4,
 "nbformat_minor": 5
}
