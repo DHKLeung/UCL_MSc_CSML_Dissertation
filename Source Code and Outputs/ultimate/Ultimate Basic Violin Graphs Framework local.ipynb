{
 "cells": [
  {
   "cell_type": "code",
   "execution_count": 1,
   "id": "superb-testament",
   "metadata": {},
   "outputs": [],
   "source": [
    "import numpy as np\n",
    "import matplotlib.pyplot as plt\n",
    "import os\n",
    "import json\n",
    "big_folder = './spambase records/simple_relu_softmax'\n",
    "key = 'epoch_mean_test_loss'  # {'epoch_mean_train_loss', 'epoch_mean_test_loss', 'epoch_train_accuracy', 'epoch_test_accuracy'}\n",
    "data_name = 'spambase'  # used in the config, like usual\n",
    "TestORTrain = 'Test'  # {'Test', 'Train'}\n",
    "LossORAcc = 'Loss'  # {'Loss', 'Accuracy'}\n",
    "maxORlast = 'last'  # {'max', 'min', 'last'}\n",
    "\n",
    "gauss_vicinal_stds = [0.25, 0.5, 0.75, 1.0, 4.0]\n",
    "alphas = [0.2, 0.5, 1.0, 4.0, 8.0]"
   ]
  },
  {
   "cell_type": "code",
   "execution_count": 2,
   "id": "asian-magnet",
   "metadata": {},
   "outputs": [],
   "source": [
    "def load_history(filename_dir):\n",
    "    with open(filename_dir, 'r') as fp:\n",
    "        history = json.load(fp)\n",
    "    return history"
   ]
  },
  {
   "cell_type": "code",
   "execution_count": 3,
   "id": "australian-provincial",
   "metadata": {},
   "outputs": [],
   "source": [
    "def grab_finals(save_folder_dir, file_prefix, key, maxORlast):\n",
    "    history_filenames = [x for x in os.listdir(save_folder_dir) if x.startswith(file_prefix) and x.endswith('.json')]\n",
    "    finals = list()\n",
    "    for name in history_filenames:\n",
    "        history = load_history(save_folder_dir + '/' + name)\n",
    "        if maxORlast == 'max':\n",
    "            finals.append(max(history[key]))\n",
    "        elif maxORlast == 'last':\n",
    "            finals.append(history[key][-1])\n",
    "        elif maxORlast == 'min':\n",
    "            finals.append(min(history[key]))\n",
    "    return finals"
   ]
  },
  {
   "cell_type": "code",
   "execution_count": 4,
   "id": "super-kelly",
   "metadata": {},
   "outputs": [],
   "source": [
    "def plot_violin(violin_finals, title, figsize, title_fontsize, other_fontsize, xlabel, ylabel, xticks):\n",
    "    plt.figure(figsize=figsize)\n",
    "    plt.violinplot(violin_finals, showmeans=True)\n",
    "    plt.xlabel(xlabel, fontsize=other_fontsize)\n",
    "    plt.xticks(np.arange(len(xticks)) + 1, xticks, fontsize=other_fontsize)\n",
    "    plt.ylabel(ylabel, fontsize=other_fontsize)\n",
    "    plt.title(title, fontsize=title_fontsize)\n",
    "    plt.grid()"
   ]
  },
  {
   "cell_type": "markdown",
   "id": "entitled-jerusalem",
   "metadata": {},
   "source": [
    "# Standard"
   ]
  },
  {
   "cell_type": "code",
   "execution_count": 5,
   "id": "precise-fighter",
   "metadata": {},
   "outputs": [],
   "source": [
    "# Configuration #\n",
    "config = {\n",
    "    'validation_times': None,\n",
    "    'data_name': data_name,  # {'breast_cancer', 'cifar10', 'MNIST', 'FashionMNIST', 'spambase', 'abalone', 'iris', 'wine'}\n",
    "    'perturb_type': None,  # {None, 'mixup', 'mixup sc', 'mixup nb', 'gauss VRM'}\n",
    "    'augWPL': None,  # {None, 0.25, 0.5, 0.75, 0.9, 0.99} or others\n",
    "    'geometric_param': None,  # {0.25, 0.5, 0.75, 1.} or others\n",
    "    'gauss_vicinal_std': None,  # {0.25, 0.5, 0.75, 1.} or others\n",
    "    'batch_size': None,\n",
    "    'step_size': None,  # {0.1, 0.01, 0.001, 0.0005} or others\n",
    "    'epochs': None,\n",
    "    'L2_decay': None,  # {0., 1e-4} or others\n",
    "    'alpha': None,  # {0.25, 0.5, 0.75, 1.} or others\n",
    "    'breast_spam_model': None  # {'complex_tanh_sigmoid', 'simple_relu_sigmoid', 'simple_relu_softmax'}; ONLY VALID for legacy 'breast_cancer' and 'spambase'\n",
    "}\n",
    "if config['data_name'] in ['breast_cancer', 'spambase']:\n",
    "    if config['breast_spam_model'] in ['complex_tanh_sigmoid', 'simple_relu_sigmoid']:\n",
    "        config['criterion_type'] = 'BCE'\n",
    "    elif config['breast_spam_model'] in ['simple_relu_softmax']:\n",
    "        config['criterion_type'] = 'CE'\n",
    "elif config['data_name'] in  ['cifar10', 'MNIST', 'FashionMNIST', 'abalone', 'iris', 'wine']:\n",
    "    config['criterion_type'] = 'CE'\n",
    "\n",
    "# Folders and Files #\n",
    "save_folder_dir = big_folder + '/{}-{}'.format(str(config['data_name']), str(config['perturb_type']))\n",
    "file_prefix = '{}-{}-{}-{}-'.format(str(config['augWPL']), str(config['alpha']), str(config['geometric_param']), str(config['gauss_vicinal_std']))"
   ]
  },
  {
   "cell_type": "code",
   "execution_count": 6,
   "id": "curious-voice",
   "metadata": {},
   "outputs": [],
   "source": [
    "standard_finals = grab_finals(save_folder_dir, file_prefix, key, maxORlast)"
   ]
  },
  {
   "cell_type": "markdown",
   "id": "lesbian-catholic",
   "metadata": {},
   "source": [
    "# Gauss VRM"
   ]
  },
  {
   "cell_type": "code",
   "execution_count": 7,
   "id": "serious-ceramic",
   "metadata": {},
   "outputs": [],
   "source": [
    "# Configuration #\n",
    "config = {\n",
    "    'validation_times': None,\n",
    "    'data_name': data_name,  # {'breast_cancer', 'cifar10', 'MNIST', 'FashionMNIST', 'spambase', 'abalone', 'iris', 'wine'}\n",
    "    'perturb_type': 'gauss VRM',  # {None, 'mixup', 'mixup sc', 'mixup nb', 'gauss VRM'}\n",
    "    'augWPL': None,  # {None, 0.25, 0.5, 0.75, 0.9, 0.99} or others\n",
    "    'geometric_param': None,  # {0.25, 0.5, 0.75, 1.} or others\n",
    "    'gauss_vicinal_std': None,  # {0.25, 0.5, 0.75, 1.} or others\n",
    "    'batch_size': None,\n",
    "    'step_size': None,  # {0.1, 0.01, 0.001, 0.0005} or others\n",
    "    'epochs': None,\n",
    "    'L2_decay': None,  # {0., 1e-4} or others\n",
    "    'alpha': None,  # {0.25, 0.5, 0.75, 1.} or others\n",
    "    'breast_spam_model': None  # {'complex_tanh_sigmoid', 'simple_relu_sigmoid', 'simple_relu_softmax'}; ONLY VALID for legacy 'breast_cancer' and 'spambase'\n",
    "}\n",
    "if config['data_name'] in ['breast_cancer', 'spambase']:\n",
    "    if config['breast_spam_model'] in ['complex_tanh_sigmoid', 'simple_relu_sigmoid']:\n",
    "        config['criterion_type'] = 'BCE'\n",
    "    elif config['breast_spam_model'] in ['simple_relu_softmax']:\n",
    "        config['criterion_type'] = 'CE'\n",
    "elif config['data_name'] in  ['cifar10', 'MNIST', 'FashionMNIST', 'abalone', 'iris', 'wine']:\n",
    "    config['criterion_type'] = 'CE'\n",
    "    \n",
    "# Folders and Files #\n",
    "save_folder_dir = big_folder + '/{}-{}'.format(str(config['data_name']), str(config['perturb_type']))\n",
    "file_prefix = '{}-{}-{}-{}-'.format(str(config['augWPL']), str(config['alpha']), str(config['geometric_param']), str(config['gauss_vicinal_std']))"
   ]
  },
  {
   "cell_type": "code",
   "execution_count": 8,
   "id": "dramatic-administrator",
   "metadata": {},
   "outputs": [],
   "source": [
    "title = '{} {} {}\\nGauss VRM with different std'.format(data_name, TestORTrain, LossORAcc)\n",
    "ylabel = '{} {}'.format(TestORTrain, LossORAcc)\n",
    "xlabel = 'Methods'\n",
    "xticks = ['standard'] + ['std {}'.format(std) for std in gauss_vicinal_stds]\n",
    "title_fontsize = 17\n",
    "other_fontsize = 14\n",
    "figsize = (12, 7)"
   ]
  },
  {
   "cell_type": "code",
   "execution_count": 9,
   "id": "proper-fetish",
   "metadata": {},
   "outputs": [],
   "source": [
    "gauss_finals = list()\n",
    "for gauss_vicinal_std in gauss_vicinal_stds:\n",
    "    config['gauss_vicinal_std'] = gauss_vicinal_std\n",
    "    file_prefix = '{}-{}-{}-{}-'.format(str(config['augWPL']), str(config['alpha']), str(config['geometric_param']), str(config['gauss_vicinal_std']))\n",
    "    gauss_finals.append(grab_finals(save_folder_dir, file_prefix, key, maxORlast))"
   ]
  },
  {
   "cell_type": "code",
   "execution_count": 10,
   "id": "rubber-furniture",
   "metadata": {},
   "outputs": [
    {
     "data": {
      "image/png": "[encoded data removed]",
      "text/plain": [
       "<Figure size 864x504 with 1 Axes>"
      ]
     },
     "metadata": {
      "needs_background": "light"
     },
     "output_type": "display_data"
    }
   ],
   "source": [
    "violin_finals = [standard_finals] + gauss_finals\n",
    "plot_violin(violin_finals, title, figsize, title_fontsize, other_fontsize, xlabel, ylabel, xticks)"
   ]
  },
  {
   "cell_type": "markdown",
   "id": "discrete-scanner",
   "metadata": {},
   "source": [
    "# Mixup"
   ]
  },
  {
   "cell_type": "code",
   "execution_count": 11,
   "id": "jewish-italian",
   "metadata": {},
   "outputs": [],
   "source": [
    "# Configuration #\n",
    "config = {\n",
    "    'validation_times': None,\n",
    "    'data_name': data_name,  # {'breast_cancer', 'cifar10', 'MNIST', 'FashionMNIST', 'spambase', 'abalone', 'iris', 'wine'}\n",
    "    'perturb_type': 'mixup',  # {None, 'mixup', 'mixup sc', 'mixup nb', 'gauss VRM'}\n",
    "    'augWPL': None,  # {None, 0.25, 0.5, 0.75, 0.9, 0.99} or others\n",
    "    'geometric_param': None,  # {0.25, 0.5, 0.75, 1.} or others\n",
    "    'gauss_vicinal_std': None,  # {0.25, 0.5, 0.75, 1.} or others\n",
    "    'batch_size': None,\n",
    "    'step_size': None,  # {0.1, 0.01, 0.001, 0.0005} or others\n",
    "    'epochs': None,\n",
    "    'L2_decay': None,  # {0., 1e-4} or others\n",
    "    'alpha': None,  # {0.25, 0.5, 0.75, 1.} or others\n",
    "    'breast_spam_model': None  # {'complex_tanh_sigmoid', 'simple_relu_sigmoid', 'simple_relu_softmax'}; ONLY VALID for legacy 'breast_cancer' and 'spambase'\n",
    "}\n",
    "if config['data_name'] in ['breast_cancer', 'spambase']:\n",
    "    if config['breast_spam_model'] in ['complex_tanh_sigmoid', 'simple_relu_sigmoid']:\n",
    "        config['criterion_type'] = 'BCE'\n",
    "    elif config['breast_spam_model'] in ['simple_relu_softmax']:\n",
    "        config['criterion_type'] = 'CE'\n",
    "elif config['data_name'] in  ['cifar10', 'MNIST', 'FashionMNIST', 'abalone', 'iris', 'wine']:\n",
    "    config['criterion_type'] = 'CE'\n",
    "    \n",
    "# Folders and Files #\n",
    "save_folder_dir = big_folder + '/{}-{}'.format(str(config['data_name']), str(config['perturb_type']))\n",
    "file_prefix = '{}-{}-{}-{}-'.format(str(config['augWPL']), str(config['alpha']), str(config['geometric_param']), str(config['gauss_vicinal_std']))"
   ]
  },
  {
   "cell_type": "code",
   "execution_count": 12,
   "id": "wicked-latitude",
   "metadata": {},
   "outputs": [],
   "source": [
    "title = '{} {} {}\\nMixUp with different alpha'.format(data_name, TestORTrain, LossORAcc)\n",
    "ylabel = '{} {}'.format(TestORTrain, LossORAcc)\n",
    "xlabel = 'Methods'\n",
    "xticks = ['standard'] + ['alpha {}'.format(alpha) for alpha in alphas]\n",
    "title_fontsize = 17\n",
    "other_fontsize = 14\n",
    "figsize = (12, 7)"
   ]
  },
  {
   "cell_type": "code",
   "execution_count": 13,
   "id": "hollow-gasoline",
   "metadata": {},
   "outputs": [],
   "source": [
    "mixup_finals = list()\n",
    "for alpha in alphas:\n",
    "    config['alpha'] = alpha\n",
    "    file_prefix = '{}-{}-{}-{}-'.format(str(config['augWPL']), str(config['alpha']), str(config['geometric_param']), str(config['gauss_vicinal_std']))\n",
    "    mixup_finals.append(grab_finals(save_folder_dir, file_prefix, key, maxORlast))"
   ]
  },
  {
   "cell_type": "code",
   "execution_count": 14,
   "id": "contained-planet",
   "metadata": {},
   "outputs": [
    {
     "data": {
      "image/png": "[encoded data removed]",
      "text/plain": [
       "<Figure size 864x504 with 1 Axes>"
      ]
     },
     "metadata": {
      "needs_background": "light"
     },
     "output_type": "display_data"
    }
   ],
   "source": [
    "violin_finals = [standard_finals] + mixup_finals\n",
    "plot_violin(violin_finals, title, figsize, title_fontsize, other_fontsize, xlabel, ylabel, xticks)"
   ]
  },
  {
   "cell_type": "markdown",
   "id": "downtown-gregory",
   "metadata": {},
   "source": [
    "# MixUp NB 0.5"
   ]
  },
  {
   "cell_type": "code",
   "execution_count": 15,
   "id": "ignored-integration",
   "metadata": {},
   "outputs": [],
   "source": [
    "# Configuration #\n",
    "config = {\n",
    "    'validation_times': None,\n",
    "    'data_name': data_name,  # {'breast_cancer', 'cifar10', 'MNIST', 'FashionMNIST', 'spambase', 'abalone', 'iris', 'wine'}\n",
    "    'perturb_type': 'mixup nb',  # {None, 'mixup', 'mixup sc', 'mixup nb', 'gauss VRM'}\n",
    "    'augWPL': None,  # {None, 0.25, 0.5, 0.75, 0.9, 0.99} or others\n",
    "    'geometric_param': 0.5,  # {0.25, 0.5, 0.75, 1.} or others\n",
    "    'gauss_vicinal_std': None,  # {0.25, 0.5, 0.75, 1.} or others\n",
    "    'batch_size': None,\n",
    "    'step_size': None,  # {0.1, 0.01, 0.001, 0.0005} or others\n",
    "    'epochs': None,\n",
    "    'L2_decay': None,  # {0., 1e-4} or others\n",
    "    'alpha': None,  # {0.25, 0.5, 0.75, 1.} or others\n",
    "    'breast_spam_model': None  # {'complex_tanh_sigmoid', 'simple_relu_sigmoid', 'simple_relu_softmax'}; ONLY VALID for legacy 'breast_cancer' and 'spambase'\n",
    "}\n",
    "if config['data_name'] in ['breast_cancer', 'spambase']:\n",
    "    if config['breast_spam_model'] in ['complex_tanh_sigmoid', 'simple_relu_sigmoid']:\n",
    "        config['criterion_type'] = 'BCE'\n",
    "    elif config['breast_spam_model'] in ['simple_relu_softmax']:\n",
    "        config['criterion_type'] = 'CE'\n",
    "elif config['data_name'] in  ['cifar10', 'MNIST', 'FashionMNIST', 'abalone', 'iris', 'wine']:\n",
    "    config['criterion_type'] = 'CE'\n",
    "    \n",
    "# Folders and Files #\n",
    "save_folder_dir = big_folder + '/{}-{}'.format(str(config['data_name']), str(config['perturb_type']))\n",
    "file_prefix = '{}-{}-{}-{}-'.format(str(config['augWPL']), str(config['alpha']), str(config['geometric_param']), str(config['gauss_vicinal_std']))"
   ]
  },
  {
   "cell_type": "code",
   "execution_count": 16,
   "id": "caring-balloon",
   "metadata": {},
   "outputs": [],
   "source": [
    "title = '{} {} {}\\nMixUp Neighbour Geometric {} with different alpha'.format(data_name, TestORTrain, LossORAcc, config['geometric_param'])\n",
    "ylabel = '{} {}'.format(TestORTrain, LossORAcc)\n",
    "xlabel = 'Methods'\n",
    "xticks = ['standard'] + ['alpha {}'.format(alpha) for alpha in alphas]\n",
    "title_fontsize = 17\n",
    "other_fontsize = 14\n",
    "figsize = (12, 7)"
   ]
  },
  {
   "cell_type": "code",
   "execution_count": 17,
   "id": "negative-tennis",
   "metadata": {},
   "outputs": [
    {
     "ename": "FileNotFoundError",
     "evalue": "[WinError 3] The system cannot find the path specified: './spambase records/simple_relu_softmax/spambase-mixup nb'",
     "output_type": "error",
     "traceback": [
      "\u001b[1;31m---------------------------------------------------------------------------\u001b[0m",
      "\u001b[1;31mFileNotFoundError\u001b[0m                         Traceback (most recent call last)",
      "\u001b[1;32m<ipython-input-17-5f0da113d590>\u001b[0m in \u001b[0;36m<module>\u001b[1;34m\u001b[0m\n\u001b[0;32m      3\u001b[0m     \u001b[0mconfig\u001b[0m\u001b[1;33m[\u001b[0m\u001b[1;34m'alpha'\u001b[0m\u001b[1;33m]\u001b[0m \u001b[1;33m=\u001b[0m \u001b[0malpha\u001b[0m\u001b[1;33m\u001b[0m\u001b[1;33m\u001b[0m\u001b[0m\n\u001b[0;32m      4\u001b[0m     \u001b[0mfile_prefix\u001b[0m \u001b[1;33m=\u001b[0m \u001b[1;34m'{}-{}-{}-{}-'\u001b[0m\u001b[1;33m.\u001b[0m\u001b[0mformat\u001b[0m\u001b[1;33m(\u001b[0m\u001b[0mstr\u001b[0m\u001b[1;33m(\u001b[0m\u001b[0mconfig\u001b[0m\u001b[1;33m[\u001b[0m\u001b[1;34m'augWPL'\u001b[0m\u001b[1;33m]\u001b[0m\u001b[1;33m)\u001b[0m\u001b[1;33m,\u001b[0m \u001b[0mstr\u001b[0m\u001b[1;33m(\u001b[0m\u001b[0mconfig\u001b[0m\u001b[1;33m[\u001b[0m\u001b[1;34m'alpha'\u001b[0m\u001b[1;33m]\u001b[0m\u001b[1;33m)\u001b[0m\u001b[1;33m,\u001b[0m \u001b[0mstr\u001b[0m\u001b[1;33m(\u001b[0m\u001b[0mconfig\u001b[0m\u001b[1;33m[\u001b[0m\u001b[1;34m'geometric_param'\u001b[0m\u001b[1;33m]\u001b[0m\u001b[1;33m)\u001b[0m\u001b[1;33m,\u001b[0m \u001b[0mstr\u001b[0m\u001b[1;33m(\u001b[0m\u001b[0mconfig\u001b[0m\u001b[1;33m[\u001b[0m\u001b[1;34m'gauss_vicinal_std'\u001b[0m\u001b[1;33m]\u001b[0m\u001b[1;33m)\u001b[0m\u001b[1;33m)\u001b[0m\u001b[1;33m\u001b[0m\u001b[1;33m\u001b[0m\u001b[0m\n\u001b[1;32m----> 5\u001b[1;33m     \u001b[0mmixup_finals\u001b[0m\u001b[1;33m.\u001b[0m\u001b[0mappend\u001b[0m\u001b[1;33m(\u001b[0m\u001b[0mgrab_finals\u001b[0m\u001b[1;33m(\u001b[0m\u001b[0msave_folder_dir\u001b[0m\u001b[1;33m,\u001b[0m \u001b[0mfile_prefix\u001b[0m\u001b[1;33m,\u001b[0m \u001b[0mkey\u001b[0m\u001b[1;33m,\u001b[0m \u001b[0mmaxORlast\u001b[0m\u001b[1;33m)\u001b[0m\u001b[1;33m)\u001b[0m\u001b[1;33m\u001b[0m\u001b[1;33m\u001b[0m\u001b[0m\n\u001b[0m",
      "\u001b[1;32m<ipython-input-3-e6d90ab61c3c>\u001b[0m in \u001b[0;36mgrab_finals\u001b[1;34m(save_folder_dir, file_prefix, key, maxORlast)\u001b[0m\n\u001b[0;32m      1\u001b[0m \u001b[1;32mdef\u001b[0m \u001b[0mgrab_finals\u001b[0m\u001b[1;33m(\u001b[0m\u001b[0msave_folder_dir\u001b[0m\u001b[1;33m,\u001b[0m \u001b[0mfile_prefix\u001b[0m\u001b[1;33m,\u001b[0m \u001b[0mkey\u001b[0m\u001b[1;33m,\u001b[0m \u001b[0mmaxORlast\u001b[0m\u001b[1;33m)\u001b[0m\u001b[1;33m:\u001b[0m\u001b[1;33m\u001b[0m\u001b[1;33m\u001b[0m\u001b[0m\n\u001b[1;32m----> 2\u001b[1;33m     \u001b[0mhistory_filenames\u001b[0m \u001b[1;33m=\u001b[0m \u001b[1;33m[\u001b[0m\u001b[0mx\u001b[0m \u001b[1;32mfor\u001b[0m \u001b[0mx\u001b[0m \u001b[1;32min\u001b[0m \u001b[0mos\u001b[0m\u001b[1;33m.\u001b[0m\u001b[0mlistdir\u001b[0m\u001b[1;33m(\u001b[0m\u001b[0msave_folder_dir\u001b[0m\u001b[1;33m)\u001b[0m \u001b[1;32mif\u001b[0m \u001b[0mx\u001b[0m\u001b[1;33m.\u001b[0m\u001b[0mstartswith\u001b[0m\u001b[1;33m(\u001b[0m\u001b[0mfile_prefix\u001b[0m\u001b[1;33m)\u001b[0m \u001b[1;32mand\u001b[0m \u001b[0mx\u001b[0m\u001b[1;33m.\u001b[0m\u001b[0mendswith\u001b[0m\u001b[1;33m(\u001b[0m\u001b[1;34m'.json'\u001b[0m\u001b[1;33m)\u001b[0m\u001b[1;33m]\u001b[0m\u001b[1;33m\u001b[0m\u001b[1;33m\u001b[0m\u001b[0m\n\u001b[0m\u001b[0;32m      3\u001b[0m     \u001b[0mfinals\u001b[0m \u001b[1;33m=\u001b[0m \u001b[0mlist\u001b[0m\u001b[1;33m(\u001b[0m\u001b[1;33m)\u001b[0m\u001b[1;33m\u001b[0m\u001b[1;33m\u001b[0m\u001b[0m\n\u001b[0;32m      4\u001b[0m     \u001b[1;32mfor\u001b[0m \u001b[0mname\u001b[0m \u001b[1;32min\u001b[0m \u001b[0mhistory_filenames\u001b[0m\u001b[1;33m:\u001b[0m\u001b[1;33m\u001b[0m\u001b[1;33m\u001b[0m\u001b[0m\n\u001b[0;32m      5\u001b[0m         \u001b[0mhistory\u001b[0m \u001b[1;33m=\u001b[0m \u001b[0mload_history\u001b[0m\u001b[1;33m(\u001b[0m\u001b[0msave_folder_dir\u001b[0m \u001b[1;33m+\u001b[0m \u001b[1;34m'/'\u001b[0m \u001b[1;33m+\u001b[0m \u001b[0mname\u001b[0m\u001b[1;33m)\u001b[0m\u001b[1;33m\u001b[0m\u001b[1;33m\u001b[0m\u001b[0m\n",
      "\u001b[1;31mFileNotFoundError\u001b[0m: [WinError 3] The system cannot find the path specified: './spambase records/simple_relu_softmax/spambase-mixup nb'"
     ]
    }
   ],
   "source": [
    "mixup_finals = list()\n",
    "for alpha in alphas:\n",
    "    config['alpha'] = alpha\n",
    "    file_prefix = '{}-{}-{}-{}-'.format(str(config['augWPL']), str(config['alpha']), str(config['geometric_param']), str(config['gauss_vicinal_std']))\n",
    "    mixup_finals.append(grab_finals(save_folder_dir, file_prefix, key, maxORlast))"
   ]
  },
  {
   "cell_type": "code",
   "execution_count": null,
   "id": "emerging-knowing",
   "metadata": {},
   "outputs": [],
   "source": [
    "violin_finals = [standard_finals] + mixup_finals\n",
    "plot_violin(violin_finals, title, figsize, title_fontsize, other_fontsize, xlabel, ylabel, xticks)"
   ]
  },
  {
   "cell_type": "markdown",
   "id": "optimum-tuning",
   "metadata": {},
   "source": [
    "# MixUp NB 0.75"
   ]
  },
  {
   "cell_type": "code",
   "execution_count": null,
   "id": "latter-account",
   "metadata": {},
   "outputs": [],
   "source": [
    "# Configuration #\n",
    "config = {\n",
    "    'validation_times': None,\n",
    "    'data_name': data_name,  # {'breast_cancer', 'cifar10', 'MNIST', 'FashionMNIST', 'spambase', 'abalone', 'iris', 'wine'}\n",
    "    'perturb_type': 'mixup nb',  # {None, 'mixup', 'mixup sc', 'mixup nb', 'gauss VRM'}\n",
    "    'augWPL': None,  # {None, 0.25, 0.5, 0.75, 0.9, 0.99} or others\n",
    "    'geometric_param': 0.75,  # {0.25, 0.5, 0.75, 1.} or others\n",
    "    'gauss_vicinal_std': None,  # {0.25, 0.5, 0.75, 1.} or others\n",
    "    'batch_size': None,\n",
    "    'step_size': None,  # {0.1, 0.01, 0.001, 0.0005} or others\n",
    "    'epochs': None,\n",
    "    'L2_decay': None,  # {0., 1e-4} or others\n",
    "    'alpha': None,  # {0.25, 0.5, 0.75, 1.} or others\n",
    "    'breast_spam_model': None  # {'complex_tanh_sigmoid', 'simple_relu_sigmoid', 'simple_relu_softmax'}; ONLY VALID for legacy 'breast_cancer' and 'spambase'\n",
    "}\n",
    "if config['data_name'] in ['breast_cancer', 'spambase']:\n",
    "    if config['breast_spam_model'] in ['complex_tanh_sigmoid', 'simple_relu_sigmoid']:\n",
    "        config['criterion_type'] = 'BCE'\n",
    "    elif config['breast_spam_model'] in ['simple_relu_softmax']:\n",
    "        config['criterion_type'] = 'CE'\n",
    "elif config['data_name'] in  ['cifar10', 'MNIST', 'FashionMNIST', 'abalone', 'iris', 'wine']:\n",
    "    config['criterion_type'] = 'CE'\n",
    "    \n",
    "# Folders and Files #\n",
    "save_folder_dir = big_folder + '/{}-{}'.format(str(config['data_name']), str(config['perturb_type']))\n",
    "file_prefix = '{}-{}-{}-{}-'.format(str(config['augWPL']), str(config['alpha']), str(config['geometric_param']), str(config['gauss_vicinal_std']))"
   ]
  },
  {
   "cell_type": "code",
   "execution_count": null,
   "id": "virgin-colors",
   "metadata": {},
   "outputs": [],
   "source": [
    "title = '{} {} {}\\nMixUp Neighbour Geometric {} with different alpha'.format(data_name, TestORTrain, LossORAcc, config['geometric_param'])\n",
    "ylabel = '{} {}'.format(TestORTrain, LossORAcc)\n",
    "xlabel = 'Methods'\n",
    "xticks = ['standard'] + ['alpha {}'.format(alpha) for alpha in alphas]\n",
    "title_fontsize = 17\n",
    "other_fontsize = 14\n",
    "figsize = (12, 7)"
   ]
  },
  {
   "cell_type": "code",
   "execution_count": null,
   "id": "buried-nowhere",
   "metadata": {},
   "outputs": [],
   "source": [
    "mixup_finals = list()\n",
    "for alpha in alphas:\n",
    "    config['alpha'] = alpha\n",
    "    file_prefix = '{}-{}-{}-{}-'.format(str(config['augWPL']), str(config['alpha']), str(config['geometric_param']), str(config['gauss_vicinal_std']))\n",
    "    mixup_finals.append(grab_finals(save_folder_dir, file_prefix, key, maxORlast))"
   ]
  },
  {
   "cell_type": "code",
   "execution_count": null,
   "id": "massive-builder",
   "metadata": {},
   "outputs": [],
   "source": [
    "violin_finals = [standard_finals] + mixup_finals\n",
    "plot_violin(violin_finals, title, figsize, title_fontsize, other_fontsize, xlabel, ylabel, xticks)"
   ]
  },
  {
   "cell_type": "markdown",
   "id": "standard-fashion",
   "metadata": {},
   "source": [
    "# MixUp NB 1.0"
   ]
  },
  {
   "cell_type": "code",
   "execution_count": null,
   "id": "acknowledged-richards",
   "metadata": {},
   "outputs": [],
   "source": [
    "# Configuration #\n",
    "config = {\n",
    "    'validation_times': None,\n",
    "    'data_name': data_name,  # {'breast_cancer', 'cifar10', 'MNIST', 'FashionMNIST', 'spambase', 'abalone', 'iris', 'wine'}\n",
    "    'perturb_type': 'mixup nb',  # {None, 'mixup', 'mixup sc', 'mixup nb', 'gauss VRM'}\n",
    "    'augWPL': None,  # {None, 0.25, 0.5, 0.75, 0.9, 0.99} or others\n",
    "    'geometric_param': 1.0,  # {0.25, 0.5, 0.75, 1.} or others\n",
    "    'gauss_vicinal_std': None,  # {0.25, 0.5, 0.75, 1.} or others\n",
    "    'batch_size': None,\n",
    "    'step_size': None,  # {0.1, 0.01, 0.001, 0.0005} or others\n",
    "    'epochs': None,\n",
    "    'L2_decay': None,  # {0., 1e-4} or others\n",
    "    'alpha': None,  # {0.25, 0.5, 0.75, 1.} or others\n",
    "    'breast_spam_model': None  # {'complex_tanh_sigmoid', 'simple_relu_sigmoid', 'simple_relu_softmax'}; ONLY VALID for legacy 'breast_cancer' and 'spambase'\n",
    "}\n",
    "if config['data_name'] in ['breast_cancer', 'spambase']:\n",
    "    if config['breast_spam_model'] in ['complex_tanh_sigmoid', 'simple_relu_sigmoid']:\n",
    "        config['criterion_type'] = 'BCE'\n",
    "    elif config['breast_spam_model'] in ['simple_relu_softmax']:\n",
    "        config['criterion_type'] = 'CE'\n",
    "elif config['data_name'] in  ['cifar10', 'MNIST', 'FashionMNIST', 'abalone', 'iris', 'wine']:\n",
    "    config['criterion_type'] = 'CE'\n",
    "    \n",
    "# Folders and Files #\n",
    "save_folder_dir = big_folder + '/{}-{}'.format(str(config['data_name']), str(config['perturb_type']))\n",
    "file_prefix = '{}-{}-{}-{}-'.format(str(config['augWPL']), str(config['alpha']), str(config['geometric_param']), str(config['gauss_vicinal_std']))"
   ]
  },
  {
   "cell_type": "code",
   "execution_count": null,
   "id": "ordinary-submission",
   "metadata": {},
   "outputs": [],
   "source": [
    "title = '{} {} {}\\nMixUp Neighbour Geometric {} with different alpha'.format(data_name, TestORTrain, LossORAcc, config['geometric_param'])\n",
    "ylabel = '{} {}'.format(TestORTrain, LossORAcc)\n",
    "xlabel = 'Methods'\n",
    "xticks = ['standard'] + ['alpha {}'.format(alpha) for alpha in alphas]\n",
    "title_fontsize = 17\n",
    "other_fontsize = 14\n",
    "figsize = (12, 7)"
   ]
  },
  {
   "cell_type": "code",
   "execution_count": null,
   "id": "addressed-longer",
   "metadata": {},
   "outputs": [],
   "source": [
    "mixup_finals = list()\n",
    "for alpha in alphas:\n",
    "    config['alpha'] = alpha\n",
    "    file_prefix = '{}-{}-{}-{}-'.format(str(config['augWPL']), str(config['alpha']), str(config['geometric_param']), str(config['gauss_vicinal_std']))\n",
    "    mixup_finals.append(grab_finals(save_folder_dir, file_prefix, key, maxORlast))"
   ]
  },
  {
   "cell_type": "code",
   "execution_count": null,
   "id": "pleased-encounter",
   "metadata": {},
   "outputs": [],
   "source": [
    "violin_finals = [standard_finals] + mixup_finals\n",
    "plot_violin(violin_finals, title, figsize, title_fontsize, other_fontsize, xlabel, ylabel, xticks)"
   ]
  },
  {
   "cell_type": "markdown",
   "id": "heard-arlington",
   "metadata": {},
   "source": [
    "# MixUp SC"
   ]
  },
  {
   "cell_type": "code",
   "execution_count": 18,
   "id": "amazing-hypothetical",
   "metadata": {},
   "outputs": [],
   "source": [
    "# Configuration #\n",
    "config = {\n",
    "    'validation_times': None,\n",
    "    'data_name': data_name,  # {'breast_cancer', 'cifar10', 'MNIST', 'FashionMNIST', 'spambase', 'abalone', 'iris', 'wine'}\n",
    "    'perturb_type': 'mixup sc',  # {None, 'mixup', 'mixup sc', 'mixup nb', 'gauss VRM'}\n",
    "    'augWPL': None,  # {None, 0.25, 0.5, 0.75, 0.9, 0.99} or others\n",
    "    'geometric_param': None,  # {0.25, 0.5, 0.75, 1.} or others\n",
    "    'gauss_vicinal_std': None,  # {0.25, 0.5, 0.75, 1.} or others\n",
    "    'batch_size': None,\n",
    "    'step_size': None,  # {0.1, 0.01, 0.001, 0.0005} or others\n",
    "    'epochs': None,\n",
    "    'L2_decay': None,  # {0., 1e-4} or others\n",
    "    'alpha': None,  # {0.25, 0.5, 0.75, 1.} or others\n",
    "    'breast_spam_model': None  # {'complex_tanh_sigmoid', 'simple_relu_sigmoid', 'simple_relu_softmax'}; ONLY VALID for legacy 'breast_cancer' and 'spambase'\n",
    "}\n",
    "if config['data_name'] in ['breast_cancer', 'spambase']:\n",
    "    if config['breast_spam_model'] in ['complex_tanh_sigmoid', 'simple_relu_sigmoid']:\n",
    "        config['criterion_type'] = 'BCE'\n",
    "    elif config['breast_spam_model'] in ['simple_relu_softmax']:\n",
    "        config['criterion_type'] = 'CE'\n",
    "elif config['data_name'] in  ['cifar10', 'MNIST', 'FashionMNIST', 'abalone', 'iris', 'wine']:\n",
    "    config['criterion_type'] = 'CE'\n",
    "    \n",
    "# Folders and Files #\n",
    "save_folder_dir = big_folder + '/{}-{}'.format(str(config['data_name']), str(config['perturb_type']))\n",
    "file_prefix = '{}-{}-{}-{}-'.format(str(config['augWPL']), str(config['alpha']), str(config['geometric_param']), str(config['gauss_vicinal_std']))"
   ]
  },
  {
   "cell_type": "code",
   "execution_count": 19,
   "id": "loving-platform",
   "metadata": {},
   "outputs": [],
   "source": [
    "title = '{} {} {}\\nMixUp Same Class with different alpha'.format(data_name, TestORTrain, LossORAcc)\n",
    "ylabel = '{} {}'.format(TestORTrain, LossORAcc)\n",
    "xlabel = 'Methods'\n",
    "xticks = ['standard'] + ['alpha {}'.format(alpha) for alpha in alphas]\n",
    "title_fontsize = 17\n",
    "other_fontsize = 14\n",
    "figsize = (12, 7)"
   ]
  },
  {
   "cell_type": "code",
   "execution_count": 20,
   "id": "polished-soundtrack",
   "metadata": {},
   "outputs": [],
   "source": [
    "mixup_finals = list()\n",
    "for alpha in alphas:\n",
    "    config['alpha'] = alpha\n",
    "    file_prefix = '{}-{}-{}-{}-'.format(str(config['augWPL']), str(config['alpha']), str(config['geometric_param']), str(config['gauss_vicinal_std']))\n",
    "    mixup_finals.append(grab_finals(save_folder_dir, file_prefix, key, maxORlast))"
   ]
  },
  {
   "cell_type": "code",
   "execution_count": 21,
   "id": "acquired-dealing",
   "metadata": {},
   "outputs": [
    {
     "data": {
      "image/png": "[encoded data removed]",
      "text/plain": [
       "<Figure size 864x504 with 1 Axes>"
      ]
     },
     "metadata": {
      "needs_background": "light"
     },
     "output_type": "display_data"
    }
   ],
   "source": [
    "violin_finals = [standard_finals] + mixup_finals\n",
    "plot_violin(violin_finals, title, figsize, title_fontsize, other_fontsize, xlabel, ylabel, xticks)"
   ]
  },
  {
   "cell_type": "code",
   "execution_count": null,
   "id": "electric-participant",
   "metadata": {},
   "outputs": [],
   "source": []
  }
 ],
 "metadata": {
  "kernelspec": {
   "display_name": "Python 3",
   "language": "python",
   "name": "python3"
  },
  "language_info": {
   "codemirror_mode": {
    "name": "ipython",
    "version": 3
   },
   "file_extension": ".py",
   "mimetype": "text/x-python",
   "name": "python",
   "nbconvert_exporter": "python",
   "pygments_lexer": "ipython3",
   "version": "3.8.5"
  }
 },
 "nbformat": 4,
 "nbformat_minor": 5
}
